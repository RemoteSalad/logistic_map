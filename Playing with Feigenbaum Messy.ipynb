{
 "cells": [
  {
   "cell_type": "code",
   "execution_count": 210,
   "id": "e2d62a59",
   "metadata": {},
   "outputs": [],
   "source": [
    "import seaborn as sns\n",
    "import matplotlib.pyplot as plt\n",
    "import numpy as np"
   ]
  },
  {
   "cell_type": "markdown",
   "id": "da6ad878",
   "metadata": {},
   "source": [
    "# Creating the next_pop method"
   ]
  },
  {
   "cell_type": "code",
   "execution_count": 41,
   "id": "4182886d",
   "metadata": {},
   "outputs": [],
   "source": [
    "rate = 2.3"
   ]
  },
  {
   "cell_type": "code",
   "execution_count": 29,
   "id": "adb6da6e",
   "metadata": {},
   "outputs": [],
   "source": [
    "def next_pop(x, r):\n",
    "    if x < 0 or 1 < x:\n",
    "        return -1\n",
    "    x_1 = r * x * (1 - x)\n",
    "    return x_1"
   ]
  },
  {
   "cell_type": "code",
   "execution_count": 185,
   "id": "c9327726",
   "metadata": {},
   "outputs": [
    {
     "name": "stdout",
     "output_type": "stream",
     "text": [
      "0.567\n"
     ]
    }
   ],
   "source": [
    "print(next_pop(.3, rate))"
   ]
  },
  {
   "cell_type": "code",
   "execution_count": 201,
   "id": "902c6ede",
   "metadata": {},
   "outputs": [
    {
     "data": {
      "text/plain": [
       "[(1, 4), (2, 5), (3, 6)]"
      ]
     },
     "execution_count": 201,
     "metadata": {},
     "output_type": "execute_result"
    }
   ],
   "source": [
    "a = [1,2,3]\n",
    "b = [4,5,6]\n",
    "list(zip(a,b))"
   ]
  },
  {
   "cell_type": "code",
   "execution_count": 203,
   "id": "9cbb4152",
   "metadata": {
    "collapsed": true
   },
   "outputs": [
    {
     "data": {
      "text/plain": [
       "[0,\n",
       " 10,\n",
       " 20,\n",
       " 30,\n",
       " 40,\n",
       " 50,\n",
       " 60,\n",
       " 70,\n",
       " 80,\n",
       " 90,\n",
       " 100,\n",
       " 110,\n",
       " 120,\n",
       " 130,\n",
       " 140,\n",
       " 150,\n",
       " 160,\n",
       " 170,\n",
       " 180,\n",
       " 190,\n",
       " 200,\n",
       " 210,\n",
       " 220,\n",
       " 230,\n",
       " 240,\n",
       " 250,\n",
       " 260,\n",
       " 270,\n",
       " 280,\n",
       " 290,\n",
       " 300,\n",
       " 310,\n",
       " 320,\n",
       " 330,\n",
       " 340,\n",
       " 350,\n",
       " 360,\n",
       " 370,\n",
       " 380,\n",
       " 390,\n",
       " 400,\n",
       " 410,\n",
       " 420,\n",
       " 430,\n",
       " 440,\n",
       " 450,\n",
       " 460,\n",
       " 470,\n",
       " 480,\n",
       " 490,\n",
       " 500]"
      ]
     },
     "execution_count": 203,
     "metadata": {},
     "output_type": "execute_result"
    }
   ],
   "source": [
    "[cycle_time*cycle for cycle in range(cycles+1)]"
   ]
  },
  {
   "cell_type": "code",
   "execution_count": 204,
   "id": "4ebb9fed",
   "metadata": {
    "collapsed": true
   },
   "outputs": [
    {
     "data": {
      "text/plain": [
       "[130000000,\n",
       " 61880000.0,\n",
       " 58118686.080000006,\n",
       " 56072497.70147403,\n",
       " 54878546.88432838,\n",
       " 54155570.38736569,\n",
       " 53708360.25974709,\n",
       " 53428171.81307873,\n",
       " 53251240.77142963,\n",
       " 53138963.872006275,\n",
       " 53067494.3924739,\n",
       " 53021911.438316815,\n",
       " 52992802.52661645,\n",
       " 52974199.022748604,\n",
       " 52962303.488646,\n",
       " 52954694.726959154,\n",
       " 52949826.91201149,\n",
       " 52946712.24425419,\n",
       " 52944719.157349885,\n",
       " 52943443.70477141,\n",
       " 52942627.46551108,\n",
       " 52942105.09302224,\n",
       " 52941770.7830821,\n",
       " 52941556.82818249,\n",
       " 52941419.89846479,\n",
       " 52941332.264026284,\n",
       " 52941276.17822355,\n",
       " 52941240.28340723,\n",
       " 52941217.3107647,\n",
       " 52941202.60828983,\n",
       " 52941193.19871261,\n",
       " 52941187.176585935,\n",
       " 52941183.32242599,\n",
       " 52941180.85576408,\n",
       " 52941179.277100645,\n",
       " 52941178.266756125,\n",
       " 52941177.62013567,\n",
       " 52941177.2062986,\n",
       " 52941176.941442855,\n",
       " 52941176.771935195,\n",
       " 52941176.663450286,\n",
       " 52941176.59401996,\n",
       " 52941176.549584545,\n",
       " 52941176.52114588,\n",
       " 52941176.50294514,\n",
       " 52941176.49129666,\n",
       " 52941176.48384162,\n",
       " 52941176.47907041,\n",
       " 52941176.47601683,\n",
       " 52941176.47406255,\n",
       " 52941176.47281179]"
      ]
     },
     "execution_count": 204,
     "metadata": {},
     "output_type": "execute_result"
    }
   ],
   "source": [
    "unabstracted_pop"
   ]
  },
  {
   "cell_type": "code",
   "execution_count": 207,
   "id": "8236a985",
   "metadata": {},
   "outputs": [
    {
     "data": {
      "text/plain": [
       "[(130000000, 0),\n",
       " (61880000.0, 10),\n",
       " (58118686.080000006, 20),\n",
       " (56072497.70147403, 30),\n",
       " (54878546.88432838, 40),\n",
       " (54155570.38736569, 50),\n",
       " (53708360.25974709, 60),\n",
       " (53428171.81307873, 70),\n",
       " (53251240.77142963, 80),\n",
       " (53138963.872006275, 90),\n",
       " (53067494.3924739, 100),\n",
       " (53021911.438316815, 110),\n",
       " (52992802.52661645, 120),\n",
       " (52974199.022748604, 130),\n",
       " (52962303.488646, 140),\n",
       " (52954694.726959154, 150),\n",
       " (52949826.91201149, 160),\n",
       " (52946712.24425419, 170),\n",
       " (52944719.157349885, 180),\n",
       " (52943443.70477141, 190),\n",
       " (52942627.46551108, 200),\n",
       " (52942105.09302224, 210),\n",
       " (52941770.7830821, 220),\n",
       " (52941556.82818249, 230),\n",
       " (52941419.89846479, 240),\n",
       " (52941332.264026284, 250),\n",
       " (52941276.17822355, 260),\n",
       " (52941240.28340723, 270),\n",
       " (52941217.3107647, 280),\n",
       " (52941202.60828983, 290),\n",
       " (52941193.19871261, 300),\n",
       " (52941187.176585935, 310),\n",
       " (52941183.32242599, 320),\n",
       " (52941180.85576408, 330),\n",
       " (52941179.277100645, 340),\n",
       " (52941178.266756125, 350),\n",
       " (52941177.62013567, 360),\n",
       " (52941177.2062986, 370),\n",
       " (52941176.941442855, 380),\n",
       " (52941176.771935195, 390),\n",
       " (52941176.663450286, 400),\n",
       " (52941176.59401996, 410),\n",
       " (52941176.549584545, 420),\n",
       " (52941176.52114588, 430),\n",
       " (52941176.50294514, 440),\n",
       " (52941176.49129666, 450),\n",
       " (52941176.48384162, 460),\n",
       " (52941176.47907041, 470),\n",
       " (52941176.47601683, 480),\n",
       " (52941176.47406255, 490),\n",
       " (52941176.47281179, 500)]"
      ]
     },
     "execution_count": 207,
     "metadata": {},
     "output_type": "execute_result"
    }
   ],
   "source": [
    "unabstracted"
   ]
  },
  {
   "cell_type": "code",
   "execution_count": 215,
   "id": "a906f1f6",
   "metadata": {},
   "outputs": [
    {
     "data": {
      "text/plain": [
       "[<matplotlib.lines.Line2D at 0x7fbe2567be20>]"
      ]
     },
     "execution_count": 215,
     "metadata": {},
     "output_type": "execute_result"
    },
    {
     "data": {
      "image/png": "[encoded data removed]",
      "text/plain": [
       "<Figure size 1296x720 with 1 Axes>"
      ]
     },
     "metadata": {
      "needs_background": "light"
     },
     "output_type": "display_data"
    }
   ],
   "source": [
    "# rate -> number of children per female per cycle\n",
    "cycle_time = 10 #years\n",
    "rate     = 1.36 #per cycle\n",
    "pop      = 130_000_000 \n",
    "cycles   = 50\n",
    "capacity = 200_000_000  #popsize this place can support\n",
    "\n",
    "\n",
    "ratio_pop = pop/capacity\n",
    "results = []\n",
    "for i in range(1, cycles + 1):\n",
    "    ratio_pop = next_pop(ratio_pop, rate)\n",
    "    results.append(ratio_pop)\n",
    "\n",
    "\n",
    "unabstracted_time = [cycle_time*cycle for cycle in range(cycles+1)]\n",
    "unabstracted_pop = [pop] + [result * capacity for result in results]\n",
    "\n",
    "\n",
    "# unabstracted = list(zip(unabstracted_time,unabstracted_pop))\n",
    "\n",
    "plt.figure(figsize= (18,10))\n",
    "# plt.xlim(-1, cycles*cycle_time)\n",
    "plt.ylim(0, capacity)\n",
    "plt.plot(unabstracted_time, unabstracted_pop)"
   ]
  },
  {
   "cell_type": "code",
   "execution_count": 182,
   "id": "f4b6020c",
   "metadata": {
    "scrolled": true
   },
   "outputs": [
    {
     "data": {
      "text/plain": [
       "[16.102800000000006,\n",
       " 42.77744954683201,\n",
       " 110.55835626417068,\n",
       " 265.5050565357056,\n",
       " 526.532728022129,\n",
       " 673.0992387280002]"
      ]
     },
     "execution_count": 182,
     "metadata": {},
     "output_type": "execute_result"
    }
   ],
   "source": [
    "unabstracted[:6]"
   ]
  },
  {
   "cell_type": "code",
   "execution_count": 156,
   "id": "d9033c0f",
   "metadata": {},
   "outputs": [
    {
     "data": {
      "text/plain": [
       "[1, 2, 3, 4, 5, 6, 7, 8, 9, 10]"
      ]
     },
     "execution_count": 156,
     "metadata": {},
     "output_type": "execute_result"
    }
   ],
   "source": [
    "list(range(1,times + 1))"
   ]
  },
  {
   "cell_type": "markdown",
   "id": "730e48c3",
   "metadata": {},
   "source": [
    "# Creating a method to run a set number of iterations with given rate and x_init"
   ]
  },
  {
   "cell_type": "code",
   "execution_count": 35,
   "id": "45efe755",
   "metadata": {},
   "outputs": [],
   "source": [
    "def set_iteration(iterations, x_init, rate):\n",
    "    i = 0\n",
    "    x_current = x_init\n",
    "    while i < iterations:\n",
    "        x_current = next_pop(x_current, rate)\n",
    "        i += 1\n",
    "    return x_current"
   ]
  },
  {
   "cell_type": "code",
   "execution_count": 43,
   "id": "39a36b1c",
   "metadata": {},
   "outputs": [
    {
     "name": "stdout",
     "output_type": "stream",
     "text": [
      "0.5652173913043478\n"
     ]
    }
   ],
   "source": [
    "print(set_iteration(1000, .3, rate))"
   ]
  },
  {
   "cell_type": "markdown",
   "id": "adf5d223",
   "metadata": {},
   "source": [
    "## Trying that with sample of init and iter"
   ]
  },
  {
   "cell_type": "code",
   "execution_count": 53,
   "id": "a50daddf",
   "metadata": {},
   "outputs": [
    {
     "name": "stdout",
     "output_type": "stream",
     "text": [
      "the rate is 2.3\n",
      "This is on iteration 0, 500;\n",
      "With initial population 0, 0.3\n",
      "0.5652173913043478\n",
      "This is on iteration 0, 500;\n",
      "With initial population 1, 0.4\n",
      "0.5652173913043478\n",
      "This is on iteration 0, 500;\n",
      "With initial population 2, 0.5\n",
      "0.5652173913043478\n",
      "This is on iteration 0, 500;\n",
      "With initial population 3, 0.6\n",
      "0.5652173913043478\n",
      "This is on iteration 0, 500;\n",
      "With initial population 4, 0.7\n",
      "0.5652173913043478\n",
      "This is on iteration 1, 1000;\n",
      "With initial population 0, 0.3\n",
      "0.5652173913043478\n",
      "This is on iteration 1, 1000;\n",
      "With initial population 1, 0.4\n",
      "0.5652173913043478\n",
      "This is on iteration 1, 1000;\n",
      "With initial population 2, 0.5\n",
      "0.5652173913043478\n",
      "This is on iteration 1, 1000;\n",
      "With initial population 3, 0.6\n",
      "0.5652173913043478\n",
      "This is on iteration 1, 1000;\n",
      "With initial population 4, 0.7\n",
      "0.5652173913043478\n",
      "This is on iteration 2, 10000;\n",
      "With initial population 0, 0.3\n",
      "0.5652173913043478\n",
      "This is on iteration 2, 10000;\n",
      "With initial population 1, 0.4\n",
      "0.5652173913043478\n",
      "This is on iteration 2, 10000;\n",
      "With initial population 2, 0.5\n",
      "0.5652173913043478\n",
      "This is on iteration 2, 10000;\n",
      "With initial population 3, 0.6\n",
      "0.5652173913043478\n",
      "This is on iteration 2, 10000;\n",
      "With initial population 4, 0.7\n",
      "0.5652173913043478\n"
     ]
    }
   ],
   "source": [
    "try_iter = [500, 1000, 10_000]\n",
    "try_init = [.3, .4, .5, .6, .7]\n",
    "\n",
    "rate = 2.3\n",
    "results = [[rate]]\n",
    "print(f\"the rate is {rate}\")\n",
    "for index_1, times in enumerate(try_iter):\n",
    "    for index_2, init in enumerate(try_init):\n",
    "        print(f\"This is on iteration {index_1}, {times};\\nWith initial population {index_2}, {init}\")\n",
    "        results.append([times, init, set_iteration(times, init, rate)])\n",
    "        print(final_pop[-1][2])"
   ]
  },
  {
   "cell_type": "code",
   "execution_count": 54,
   "id": "0b48ca00",
   "metadata": {},
   "outputs": [
    {
     "data": {
      "text/plain": [
       "[[2.3],\n",
       " [500, 0.3, 0.5652173913043478],\n",
       " [500, 0.4, 0.5652173913043478],\n",
       " [500, 0.5, 0.5652173913043478],\n",
       " [500, 0.6, 0.5652173913043478],\n",
       " [500, 0.7, 0.5652173913043478],\n",
       " [1000, 0.3, 0.5652173913043478],\n",
       " [1000, 0.4, 0.5652173913043478],\n",
       " [1000, 0.5, 0.5652173913043478],\n",
       " [1000, 0.6, 0.5652173913043478],\n",
       " [1000, 0.7, 0.5652173913043478],\n",
       " [10000, 0.3, 0.5652173913043478],\n",
       " [10000, 0.4, 0.5652173913043478],\n",
       " [10000, 0.5, 0.5652173913043478],\n",
       " [10000, 0.6, 0.5652173913043478],\n",
       " [10000, 0.7, 0.5652173913043478]]"
      ]
     },
     "execution_count": 54,
     "metadata": {},
     "output_type": "execute_result"
    }
   ],
   "source": [
    "results"
   ]
  },
  {
   "cell_type": "markdown",
   "id": "5b3443c0",
   "metadata": {},
   "source": [
    "## Creating a final pop element at the end of the results"
   ]
  },
  {
   "cell_type": "code",
   "execution_count": 55,
   "id": "102ad2f2",
   "metadata": {},
   "outputs": [],
   "source": [
    "final_pop = []\n",
    "for trial in results[1:]:\n",
    "    final_pop.append(trial[-1])\n",
    "results.append(final_pop)"
   ]
  },
  {
   "cell_type": "code",
   "execution_count": 56,
   "id": "28f1ad27",
   "metadata": {},
   "outputs": [
    {
     "data": {
      "text/plain": [
       "[[2.3],\n",
       " [500, 0.3, 0.5652173913043478],\n",
       " [500, 0.4, 0.5652173913043478],\n",
       " [500, 0.5, 0.5652173913043478],\n",
       " [500, 0.6, 0.5652173913043478],\n",
       " [500, 0.7, 0.5652173913043478],\n",
       " [1000, 0.3, 0.5652173913043478],\n",
       " [1000, 0.4, 0.5652173913043478],\n",
       " [1000, 0.5, 0.5652173913043478],\n",
       " [1000, 0.6, 0.5652173913043478],\n",
       " [1000, 0.7, 0.5652173913043478],\n",
       " [10000, 0.3, 0.5652173913043478],\n",
       " [10000, 0.4, 0.5652173913043478],\n",
       " [10000, 0.5, 0.5652173913043478],\n",
       " [10000, 0.6, 0.5652173913043478],\n",
       " [10000, 0.7, 0.5652173913043478],\n",
       " [0.5652173913043478,\n",
       "  0.5652173913043478,\n",
       "  0.5652173913043478,\n",
       "  0.5652173913043478,\n",
       "  0.5652173913043478,\n",
       "  0.5652173913043478,\n",
       "  0.5652173913043478,\n",
       "  0.5652173913043478,\n",
       "  0.5652173913043478,\n",
       "  0.5652173913043478,\n",
       "  0.5652173913043478,\n",
       "  0.5652173913043478,\n",
       "  0.5652173913043478,\n",
       "  0.5652173913043478,\n",
       "  0.5652173913043478]]"
      ]
     },
     "execution_count": 56,
     "metadata": {},
     "output_type": "execute_result"
    }
   ],
   "source": [
    "results"
   ]
  },
  {
   "cell_type": "markdown",
   "id": "3a0634ee",
   "metadata": {},
   "source": [
    "# Defining an all equal checker for the final pops"
   ]
  },
  {
   "cell_type": "code",
   "execution_count": 60,
   "id": "0b9bb62b",
   "metadata": {},
   "outputs": [],
   "source": [
    "def all_equal(iterator):\n",
    "    iterator = iter(iterator)\n",
    "    try:\n",
    "        first = next(iterator)\n",
    "    except StopIteration:\n",
    "        return True\n",
    "    return all(first == x for x in iterator)"
   ]
  },
  {
   "cell_type": "code",
   "execution_count": 64,
   "id": "811eaaee",
   "metadata": {},
   "outputs": [
    {
     "data": {
      "text/plain": [
       "False"
      ]
     },
     "execution_count": 64,
     "metadata": {},
     "output_type": "execute_result"
    }
   ],
   "source": [
    "all_equal([0,1,1])"
   ]
  },
  {
   "cell_type": "code",
   "execution_count": 61,
   "id": "9345cffa",
   "metadata": {},
   "outputs": [
    {
     "data": {
      "text/plain": [
       "True"
      ]
     },
     "execution_count": 61,
     "metadata": {},
     "output_type": "execute_result"
    }
   ],
   "source": [
    "all_equal(results[-1])"
   ]
  },
  {
   "cell_type": "markdown",
   "id": "f10a7005",
   "metadata": {},
   "source": [
    "# Defining method to return interation count when population stabilizes"
   ]
  },
  {
   "cell_type": "markdown",
   "id": "730defd1",
   "metadata": {},
   "source": [
    "## test run"
   ]
  },
  {
   "cell_type": "code",
   "execution_count": 131,
   "id": "b7ba3915",
   "metadata": {},
   "outputs": [],
   "source": [
    "# if x == x_next:\n",
    "#     return iteration, last_counts\n",
    "# else:\n",
    "#     continue\n",
    "#     unless\n",
    "#         iteration == max_iterations\n",
    "#         then exit\n",
    "\n",
    "#### create a object that has rate so it doesn't need to be passed constantly\n",
    "\n",
    "\n",
    "def testing_return_iter(rate, x_init, max_runs):\n",
    "    x_cur, x_next = x_init, next_pop(x_init, rate)\n",
    "    i = 1\n",
    "    while i < max_runs:\n",
    "        x_next = next_pop(x_cur, rate)\n",
    "        print([x_cur, x_next, x_cur == x_next, x_cur - x_next, i])\n",
    "#         if x_next == x_cur:\n",
    "#             return [i, x_cur, x_next]\n",
    "        x_temp = x_cur\n",
    "        x_cur = x_next\n",
    "        i += 1\n",
    "        \n",
    "    return [i, x_temp, x_cur]\n",
    "\n"
   ]
  },
  {
   "cell_type": "code",
   "execution_count": 132,
   "id": "3ffe94c8",
   "metadata": {},
   "outputs": [
    {
     "name": "stdout",
     "output_type": "stream",
     "text": [
      "[0.5, 0.6, False, -0.09999999999999998, 1]\n",
      "[0.6, 0.576, False, 0.02400000000000002, 2]\n",
      "[0.576, 0.5861376, False, -0.01013760000000008, 3]\n",
      "[0.5861376, 0.582192753278976, False, 0.00394484672102402, 4]\n",
      "[0.582192753278976, 0.5837864431402113, False, -0.0015936898612353145, 5]\n",
      "[0.5837864431402113, 0.5831515966701891, False, 0.0006348464700222101, 6]\n",
      "[0.5831515966701891, 0.5834059487308756, False, -0.0002543520606864691, 7]\n",
      "[0.5834059487308756, 0.5833042745191261, False, 0.00010167421174944735, 8]\n",
      "[0.5833042745191261, 0.5833449548324209, False, -4.0680313294738646e-05, 9]\n",
      "[0.5833449548324209, 0.5833286844095562, False, 1.6270422864672618e-05, 10]\n",
      "[0.5833286844095562, 0.5833351928509741, False, -6.508441417918398e-06, 11]\n",
      "[0.5833351928509741, 0.5833325895179783, False, 2.603332995843033e-06, 12]\n",
      "[0.5833325895179783, 0.5833336308581475, False, -1.0413401692055402e-06, 13]\n",
      "[0.5833336308581475, 0.5833332143231952, False, 4.165349523077566e-07, 14]\n",
      "[0.5833332143231952, 0.5833333809373545, False, -1.6661415935814716e-07, 15]\n",
      "[0.5833333809373545, 0.5833333142917193, False, 6.664563523273159e-08, 16]\n",
      "[0.5833333142917193, 0.583333340949978, False, -2.665825871162042e-08, 17]\n",
      "[0.583333340949978, 0.5833333302866753, False, 1.066330268528759e-08, 18]\n",
      "[0.5833333302866753, 0.5833333345519964, False, -4.2653210963194965e-09, 19]\n",
      "[0.5833333345519964, 0.5833333328458681, False, 1.7061283497099566e-09, 20]\n",
      "[0.5833333328458681, 0.5833333335283194, False, -6.824513176795222e-10, 21]\n",
      "[0.5833333335283194, 0.5833333332553389, False, 2.7298052707180887e-10, 22]\n",
      "[0.5833333332553389, 0.5833333333645311, False, -1.0919221082872355e-10, 23]\n",
      "[0.5833333333645311, 0.5833333333208541, False, 4.3676950944870896e-11, 24]\n",
      "[0.5833333333208541, 0.583333333338325, False, -1.7470913604711313e-11, 25]\n",
      "[0.583333333338325, 0.5833333333313366, False, 6.98840985080551e-12, 26]\n",
      "[0.5833333333313366, 0.5833333333341321, False, -2.7954305537036817e-12, 27]\n",
      "[0.5833333333341321, 0.5833333333330137, False, 1.1183276527049202e-12, 28]\n",
      "[0.5833333333330137, 0.5833333333334612, False, -4.474198789239381e-13, 29]\n",
      "[0.5833333333334612, 0.5833333333332822, False, 1.7896795156957523e-13, 30]\n",
      "[0.5833333333332822, 0.5833333333333537, False, -7.149836278586008e-14, 31]\n",
      "[0.5833333333333537, 0.5833333333333252, False, 2.853273173286652e-14, 32]\n",
      "[0.5833333333333252, 0.5833333333333366, False, -1.1435297153639112e-14, 33]\n",
      "[0.5833333333333366, 0.5833333333333319, False, 4.6629367034256575e-15, 34]\n",
      "[0.5833333333333319, 0.5833333333333339, False, -1.9984014443252818e-15, 35]\n",
      "[0.5833333333333339, 0.5833333333333331, False, 7.771561172376096e-16, 36]\n",
      "[0.5833333333333331, 0.5833333333333334, False, -2.220446049250313e-16, 37]\n",
      "[0.5833333333333334, 0.5833333333333334, True, 0.0, 38]\n",
      "[0.5833333333333334, 0.5833333333333334, True, 0.0, 39]\n",
      "[0.5833333333333334, 0.5833333333333334, True, 0.0, 40]\n",
      "[0.5833333333333334, 0.5833333333333334, True, 0.0, 41]\n",
      "[0.5833333333333334, 0.5833333333333334, True, 0.0, 42]\n",
      "[0.5833333333333334, 0.5833333333333334, True, 0.0, 43]\n",
      "[0.5833333333333334, 0.5833333333333334, True, 0.0, 44]\n",
      "[0.5833333333333334, 0.5833333333333334, True, 0.0, 45]\n",
      "[0.5833333333333334, 0.5833333333333334, True, 0.0, 46]\n",
      "[0.5833333333333334, 0.5833333333333334, True, 0.0, 47]\n",
      "[0.5833333333333334, 0.5833333333333334, True, 0.0, 48]\n",
      "[0.5833333333333334, 0.5833333333333334, True, 0.0, 49]\n",
      "[0.5833333333333334, 0.5833333333333334, True, 0.0, 50]\n",
      "[0.5833333333333334, 0.5833333333333334, True, 0.0, 51]\n",
      "[0.5833333333333334, 0.5833333333333334, True, 0.0, 52]\n",
      "[0.5833333333333334, 0.5833333333333334, True, 0.0, 53]\n",
      "[0.5833333333333334, 0.5833333333333334, True, 0.0, 54]\n",
      "[0.5833333333333334, 0.5833333333333334, True, 0.0, 55]\n",
      "[0.5833333333333334, 0.5833333333333334, True, 0.0, 56]\n",
      "[0.5833333333333334, 0.5833333333333334, True, 0.0, 57]\n",
      "[0.5833333333333334, 0.5833333333333334, True, 0.0, 58]\n",
      "[0.5833333333333334, 0.5833333333333334, True, 0.0, 59]\n",
      "[0.5833333333333334, 0.5833333333333334, True, 0.0, 60]\n",
      "[0.5833333333333334, 0.5833333333333334, True, 0.0, 61]\n",
      "[0.5833333333333334, 0.5833333333333334, True, 0.0, 62]\n",
      "[0.5833333333333334, 0.5833333333333334, True, 0.0, 63]\n",
      "[0.5833333333333334, 0.5833333333333334, True, 0.0, 64]\n",
      "[0.5833333333333334, 0.5833333333333334, True, 0.0, 65]\n",
      "[0.5833333333333334, 0.5833333333333334, True, 0.0, 66]\n",
      "[0.5833333333333334, 0.5833333333333334, True, 0.0, 67]\n",
      "[0.5833333333333334, 0.5833333333333334, True, 0.0, 68]\n",
      "[0.5833333333333334, 0.5833333333333334, True, 0.0, 69]\n",
      "[0.5833333333333334, 0.5833333333333334, True, 0.0, 70]\n",
      "[0.5833333333333334, 0.5833333333333334, True, 0.0, 71]\n",
      "[0.5833333333333334, 0.5833333333333334, True, 0.0, 72]\n",
      "[0.5833333333333334, 0.5833333333333334, True, 0.0, 73]\n",
      "[0.5833333333333334, 0.5833333333333334, True, 0.0, 74]\n",
      "[0.5833333333333334, 0.5833333333333334, True, 0.0, 75]\n",
      "[0.5833333333333334, 0.5833333333333334, True, 0.0, 76]\n",
      "[0.5833333333333334, 0.5833333333333334, True, 0.0, 77]\n",
      "[0.5833333333333334, 0.5833333333333334, True, 0.0, 78]\n",
      "[0.5833333333333334, 0.5833333333333334, True, 0.0, 79]\n",
      "[0.5833333333333334, 0.5833333333333334, True, 0.0, 80]\n",
      "[0.5833333333333334, 0.5833333333333334, True, 0.0, 81]\n",
      "[0.5833333333333334, 0.5833333333333334, True, 0.0, 82]\n",
      "[0.5833333333333334, 0.5833333333333334, True, 0.0, 83]\n",
      "[0.5833333333333334, 0.5833333333333334, True, 0.0, 84]\n",
      "[0.5833333333333334, 0.5833333333333334, True, 0.0, 85]\n",
      "[0.5833333333333334, 0.5833333333333334, True, 0.0, 86]\n",
      "[0.5833333333333334, 0.5833333333333334, True, 0.0, 87]\n",
      "[0.5833333333333334, 0.5833333333333334, True, 0.0, 88]\n",
      "[0.5833333333333334, 0.5833333333333334, True, 0.0, 89]\n",
      "[0.5833333333333334, 0.5833333333333334, True, 0.0, 90]\n",
      "[0.5833333333333334, 0.5833333333333334, True, 0.0, 91]\n",
      "[0.5833333333333334, 0.5833333333333334, True, 0.0, 92]\n",
      "[0.5833333333333334, 0.5833333333333334, True, 0.0, 93]\n",
      "[0.5833333333333334, 0.5833333333333334, True, 0.0, 94]\n",
      "[0.5833333333333334, 0.5833333333333334, True, 0.0, 95]\n",
      "[0.5833333333333334, 0.5833333333333334, True, 0.0, 96]\n",
      "[0.5833333333333334, 0.5833333333333334, True, 0.0, 97]\n",
      "[0.5833333333333334, 0.5833333333333334, True, 0.0, 98]\n",
      "[0.5833333333333334, 0.5833333333333334, True, 0.0, 99]\n",
      "[100, 0.5833333333333334, 0.5833333333333334]\n",
      "True\n"
     ]
    }
   ],
   "source": [
    "rate = 2.4\n",
    "check = testing_return_iter(rate, .5, 100)\n",
    "print(check)\n",
    "print(check[1] == check[2])"
   ]
  },
  {
   "cell_type": "markdown",
   "id": "2330dcab",
   "metadata": {},
   "source": [
    "## reformating"
   ]
  },
  {
   "cell_type": "code",
   "execution_count": 126,
   "id": "ff864830",
   "metadata": {},
   "outputs": [],
   "source": [
    "def return_iter(rate, x_init, max_runs):\n",
    "    x_cur, x_next = x_init, next_pop(x_init, rate)\n",
    "    tickmark = max_runs // 20\n",
    "    i = 1\n",
    "    while i < max_runs:\n",
    "        x_next = next_pop(x_cur, rate)\n",
    "        if x_next == x_cur:\n",
    "             return [i, x_cur, x_next, x_cur == x_next, x_cur - x_next]\n",
    "        if (i % tickmark) == 0:\n",
    "            print(f\"{100 * i / max_runs}% done ({i} of {max_runs})\\n\\t{[i, x_cur, x_next, x_cur == x_next, x_cur - x_next]}\")\n",
    "        x_temp = x_cur\n",
    "        x_cur = x_next\n",
    "        i += 1\n",
    "        \n",
    "        \n",
    "    return [i, x_temp, x_cur, x_cur == x_temp, x_cur - x_temp]"
   ]
  },
  {
   "cell_type": "code",
   "execution_count": 130,
   "id": "07ea4aad",
   "metadata": {},
   "outputs": [
    {
     "name": "stdout",
     "output_type": "stream",
     "text": [
      "5.0% done (5 of 100)\n",
      "\t[5, 0.6261816790969466, 0.6086032780367155, False, 0.017578401060231008]\n",
      "10.0% done (10 of 100)\n",
      "\t[10, 0.6145207193044473, 0.6159010126099792, False, -0.00138029330553191]\n",
      "15.0% done (15 of 100)\n",
      "\t[15, 0.6154516215177785, 0.6153444000311806, False, 0.0001072214865979193]\n",
      "20.0% done (20 of 100)\n",
      "\t[20, 0.6153794039691007, 0.6153877421633112, False, -8.338194210422145e-06]\n",
      "25.0% done (25 of 100)\n",
      "\t[25, 0.6153850206181212, 0.615384372244085, False, 6.48374036127386e-07]\n",
      "30.0% done (30 of 100)\n",
      "\t[30, 0.6153845838736207, 0.6153846342912096, False, -5.0417588881579434e-08]\n",
      "35.0% done (35 of 100)\n",
      "\t[35, 0.6153846178349102, 0.6153846139144385, False, 3.920471614016208e-09]\n",
      "40.0% done (40 of 100)\n",
      "\t[40, 0.6153846151940805, 0.6153846154989363, False, -3.0485580726491435e-10]\n",
      "45.0% done (45 of 100)\n",
      "\t[45, 0.6153846153994315, 0.6153846153757258, False, 2.3705704066401267e-11]\n",
      "50.0% done (50 of 100)\n",
      "\t[50, 0.6153846153834633, 0.6153846153853066, False, -1.8433032877851474e-12]\n",
      "55.0% done (55 of 100)\n",
      "\t[55, 0.615384615384705, 0.6153846153845616, False, 1.4344081478157023e-13]\n",
      "60.0% done (60 of 100)\n",
      "\t[60, 0.6153846153846084, 0.6153846153846195, False, -1.1102230246251565e-14]\n",
      "65.0% done (65 of 100)\n",
      "\t[65, 0.615384615384616, 0.6153846153846151, False, 8.881784197001252e-16]\n",
      "CPU times: user 4.6 ms, sys: 64 µs, total: 4.66 ms\n",
      "Wall time: 2.69 ms\n"
     ]
    },
    {
     "data": {
      "text/plain": [
       "[69, 0.6153846153846154, 0.6153846153846154, True, 0.0]"
      ]
     },
     "execution_count": 130,
     "metadata": {},
     "output_type": "execute_result"
    }
   ],
   "source": [
    "%%time\n",
    "return_iter(2.6, .3, 100)"
   ]
  }
 ],
 "metadata": {
  "kernelspec": {
   "display_name": "Python 3 (ipykernel)",
   "language": "python",
   "name": "python3"
  },
  "language_info": {
   "codemirror_mode": {
    "name": "ipython",
    "version": 3
   },
   "file_extension": ".py",
   "mimetype": "text/x-python",
   "name": "python",
   "nbconvert_exporter": "python",
   "pygments_lexer": "ipython3",
   "version": "3.8.12"
  },
  "toc": {
   "base_numbering": 1,
   "nav_menu": {},
   "number_sections": true,
   "sideBar": true,
   "skip_h1_title": false,
   "title_cell": "Table of Contents",
   "title_sidebar": "Contents",
   "toc_cell": false,
   "toc_position": {},
   "toc_section_display": true,
   "toc_window_display": false
  }
 },
 "nbformat": 4,
 "nbformat_minor": 5
}
